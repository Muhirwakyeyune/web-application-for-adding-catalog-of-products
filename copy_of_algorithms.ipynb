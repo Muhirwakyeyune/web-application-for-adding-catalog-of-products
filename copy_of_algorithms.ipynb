{
  "nbformat": 4,
  "nbformat_minor": 0,
  "metadata": {
    "colab": {
      "provenance": [],
      "include_colab_link": true
    },
    "kernelspec": {
      "name": "python3",
      "display_name": "Python 3"
    },
    "language_info": {
      "name": "python"
    }
  },
  "cells": [
    {
      "cell_type": "markdown",
      "metadata": {
        "id": "view-in-github",
        "colab_type": "text"
      },
      "source": [
        "<a href=\"https://colab.research.google.com/github/Muhirwakyeyune/web-application-for-adding-catalog-of-products/blob/main/copy_of_algorithms.ipynb\" target=\"_parent\"><img src=\"https://colab.research.google.com/assets/colab-badge.svg\" alt=\"Open In Colab\"/></a>"
      ]
    },
    {
      "cell_type": "markdown",
      "source": [
        "# What is an Algorithm:\n"
      ],
      "metadata": {
        "id": "m9cClld31-Mg"
      }
    },
    {
      "cell_type": "markdown",
      "source": [
        "It is a step by step procedure for solving a computational problem.\n",
        "\n",
        "\n"
      ],
      "metadata": {
        "id": "pcpteWzj2Fbv"
      }
    },
    {
      "cell_type": "markdown",
      "source": [
        "### - What is the difference between program and algorithm?\n",
        "\n",
        "Algorithm:                                          \n",
        "\n",
        "1. Design time.        \n",
        "2. Domain Knowledge. \n",
        "3. Any Language.                                 \n",
        "4. H/W and Software (OS) independent.\n",
        "5. Analyze an Algorithm.  \n",
        "\n",
        "\n",
        "\n",
        "Program:\n",
        "\n",
        "1. Implementation time.\n",
        "2. Programming Knowledge.\n",
        "3. Programming Language.\n",
        "4. H/W and Software (OS) dependent.\n",
        "5. Testing a program."
      ],
      "metadata": {
        "id": "cpaD_bDG3AHZ"
      }
    },
    {
      "cell_type": "markdown",
      "source": [
        "# Characteristics of the Algorithm:"
      ],
      "metadata": {
        "id": "_azNKbmUdwUm"
      }
    },
    {
      "cell_type": "markdown",
      "source": [
        "\n",
        "1. Input:  ===>   (zero or more)\n",
        "\n",
        "2. Output: ===>   (at least one output)\n",
        "\n",
        "3. Definiteness: ===> (every statement should have an exact meaning, you cannot write any statement which cannot be understood/solved) every statement that we are writing should be **definite** .\n",
        "\n",
        "4. Finiteness ====> (it should have some limited number of steps and it will stop and return the result.). Algorithm must **terminate** at some point.\n",
        "\n",
        "5. Effectiveness. ====> (you should not write unecessary statements in an algorithm, whatever statement you write the objective of it is to do something in the steps of the algorithm.)\n",
        "\n"
      ],
      "metadata": {
        "id": "XHTGf_jZSTIm"
      }
    },
    {
      "cell_type": "markdown",
      "source": [
        "# How to write the Algorithm ?"
      ],
      "metadata": {
        "id": "NrRQdVLtd5KB"
      }
    },
    {
      "cell_type": "markdown",
      "source": [
        "There are no hard and fast rules for how to write an algorithm, but there are some common practices that can help make your algorithms more clear and understandable.\n",
        "\n",
        "1. Use a clear and concise writing style:====>  (Your algorithm should be easy to read and understand, even by someone who is not familiar with the problem you are trying to solve. Use short, simple sentences and avoid unnecessary technical jargon.)\n",
        "\n",
        "2. Use pseudocode:====> (Pseudocode is a simplified programming language that uses plain English to describe the steps of an algorithm. It can be easier to understand than actual code, and it allows you to focus on the logic of the algorithm rather than the syntax of a particular programming language.)\n",
        "\n",
        "3. Be consistent:=====> (Use the same naming conventions and notation throughout your algorithm. This helps to make your algorithm more readable and easier to follow.)\n",
        "\n",
        "\n",
        "4. Break down the problem:====> (As I mentioned earlier, breaking the problem down into smaller subproblems can make your algorithm more manageable and easier to understand.)"
      ],
      "metadata": {
        "id": "Frj-8JHrfodU"
      }
    },
    {
      "cell_type": "markdown",
      "source": [
        "### Example: \n",
        "\n",
        "There are lots of ways to write an algorithm, below is one way."
      ],
      "metadata": {
        "id": "ebrsDxZf0HPj"
      }
    },
    {
      "cell_type": "code",
      "source": [
        "Algorithm: isPrime(number)\n",
        "{\n",
        "prime <-- TRUE  \n",
        "\n",
        "FOR i <-- 2 TO number   \n",
        "    IF number is divisible by i THEN   \n",
        "    prime <-- FALSE  \n",
        "\n",
        "IF prime = TRUE:   \n",
        "    OUTPUT \"prime\"   \n",
        "ELSE   \n",
        "    OUTPUT \"not prime\"   \n",
        "\n",
        "}"
      ],
      "metadata": {
        "id": "BiNl7FbjxS-a"
      },
      "execution_count": null,
      "outputs": []
    },
    {
      "cell_type": "markdown",
      "source": [
        "# Example of Algorithms:\n"
      ],
      "metadata": {
        "id": "1_scnGCJMV3_"
      }
    },
    {
      "cell_type": "markdown",
      "source": [
        "There are countless algorithms in programming, and the number is constantly growing as new ones are developed. Some popular algorithms used in programming include:\n",
        "\n",
        "1.  Searching algorithms (e.g., linear search, binary search) which include searching on graphs algorithms (e.g., breadth-first search, depth-first search).\n",
        "\n",
        "2.  Sorting algorithms (e.g., bubble sort, merge sort, quicksort).\n",
        "\n",
        "3.  Optimization algorithms (e.g., gradient descent, simulated annealing)."
      ],
      "metadata": {
        "id": "iEnkeGh_OSfX"
      }
    },
    {
      "cell_type": "markdown",
      "source": [
        "# Searching Algorithms:"
      ],
      "metadata": {
        "id": "pCNvdWH4fFKL"
      }
    },
    {
      "cell_type": "markdown",
      "source": [
        "### Linear Search:\n"
      ],
      "metadata": {
        "id": "qlf2FUqPfJGL"
      }
    },
    {
      "cell_type": "markdown",
      "source": [
        "![](https://media.geeksforgeeks.org/wp-content/cdn-uploads/Linear-Search.png)\n",
        "\n",
        "\n",
        "http://geeksforgeeks.org/"
      ],
      "metadata": {
        "id": "D-V8lTR6fWpI"
      }
    },
    {
      "cell_type": "markdown",
      "source": [
        "Linear Search Algorithm:\n",
        "\n",
        "- Step 1: First, read the search element (Target element) in the array.\n",
        "- Step 2: In the second step compare the search element with the first element in the array.\n",
        "- Step 3: If both are matched, display “Target element is found” and terminate the Linear Search \n",
        "function.\n",
        "- Step 4: If both are not matched, compare the search element with the next element in the array.\n",
        "- Step 5: In this step, repeat steps 3 and 4 until the search (Target) element is compared with the \n",
        "last element of the array.\n",
        "- Step 6 – If the last element in the list does not match, the Linear Search Function will be \n",
        "terminated, and the message “Element is not found” will be displayed."
      ],
      "metadata": {
        "id": "Y2bOtLAJhFBe"
      }
    },
    {
      "cell_type": "markdown",
      "source": [
        "### Ex:"
      ],
      "metadata": {
        "id": "5uZ6U4XIhwm4"
      }
    },
    {
      "cell_type": "code",
      "source": [
        "# write a python code to linearly search x in a list.\n",
        "# If x is present then return its location,\n",
        "# otherwise return -1\n",
        "arr = [2, 3, 4, 10, 40]\n",
        "x = 10\n",
        "N = len(arr)\n",
        "def search(a, N, x):\n",
        "  for i in range(N):\n",
        "    if a[i] == x:\n",
        "      return i\n",
        "  \n",
        "  return -1  \n",
        "search(arr,N,x)        "
      ],
      "metadata": {
        "id": "uL2Guoi0hmTX",
        "colab": {
          "base_uri": "https://localhost:8080/"
        },
        "outputId": "eb2e58f0-a7b1-49da-8708-747cbba12cf7"
      },
      "execution_count": null,
      "outputs": [
        {
          "output_type": "execute_result",
          "data": {
            "text/plain": [
              "3"
            ]
          },
          "metadata": {},
          "execution_count": 12
        }
      ]
    },
    {
      "cell_type": "markdown",
      "source": [
        "### Advantages of Linear Search:\n",
        "- Linear search is simple to implement and easy to understand.\n",
        "- Linear search can be used irrespective of whether the array is sorted or not. It can be used on arrays of any data type.\n",
        "- Does not require any additional memory.\n",
        "- It is a well suited algorithm for small datasets.\n",
        "\n",
        "\n",
        "### Drawbacks of Linear Search:\n",
        "- Linear search has a time complexity of O(n), which in turn makes it slow for large datasets.\n",
        "- Not suitable for large array."
      ],
      "metadata": {
        "id": "ysrfawT_iuhm"
      }
    },
    {
      "cell_type": "markdown",
      "source": [
        "### Binary Search:\n"
      ],
      "metadata": {
        "id": "QVV6NdEFpcXC"
      }
    },
    {
      "cell_type": "markdown",
      "source": [
        "\n",
        " is a searching algorithm used in a sorted array by repeatedly dividing the search interval in half. The idea of binary search is to use the information that the array is sorted and reduce the time complexity to O(Log n). "
      ],
      "metadata": {
        "id": "oQzd5QYppwVc"
      }
    },
    {
      "cell_type": "markdown",
      "source": [
        "### Binary Search Algorithm can be implemented in the following two ways:\n",
        "\n",
        "- Iterative Method\n",
        "- Recursive Method"
      ],
      "metadata": {
        "id": "4wgvhMjhqe5k"
      }
    },
    {
      "cell_type": "markdown",
      "source": [
        "![](https://blog.penjee.com/wp-content/uploads/2015/04/binary-and-linear-search-animations.gif)"
      ],
      "metadata": {
        "id": "uGKBH2JOow2O"
      }
    },
    {
      "cell_type": "code",
      "source": [
        "# iterative method (Pseudo-Code)\n",
        "binarySearch(arr, x, low, high)\n",
        "        repeat till low > high\n",
        "               mid = (low + high)/2\n",
        "                   if (x == arr[mid])\n",
        "                   return mid\n",
        "   \n",
        "                   else if (x > arr[mid]) // x is on the right side\n",
        "                       low = mid + 1\n",
        "   \n",
        "                   else                  // x is on the left side\n",
        "                       high = mid - 1"
      ],
      "metadata": {
        "id": "fN92-p_dq2e0"
      },
      "execution_count": null,
      "outputs": []
    },
    {
      "cell_type": "code",
      "source": [
        "# recursive method (Pseudo-Code)\n",
        " binarySearch(arr, x, low, high)\n",
        "           if low > high\n",
        "               return False \n",
        "   \n",
        "           else\n",
        "               mid = (low + high) / 2 \n",
        "                   if x == arr[mid]\n",
        "                   return mid\n",
        "       \n",
        "               else if x > arr[mid]        // x is on the right side\n",
        "                   return binarySearch(arr, x, mid + 1, high)\n",
        "               \n",
        "               else                        // x is on the left side\n",
        "                   return binarySearch(arr, x, low, mid - 1) "
      ],
      "metadata": {
        "id": "j6725owPq-7o"
      },
      "execution_count": null,
      "outputs": []
    },
    {
      "cell_type": "markdown",
      "source": [
        "Advantages of Binary Search:\n",
        "- Binary search is faster than linear search,linear search increases linearly, while binary search increases logarithmically.\n",
        "\n",
        "- Binary search is relatively simple to implement and easy to understand.\n",
        "\n",
        "- Binary search is well-suited for searching large datasets that are stored in external memory, such as on a hard drive or in the cloud.\n",
        "\n",
        "- Binary search can be used as a building block for more complex algorithms, such as those used in computer graphics and machine learning.\n",
        "\n",
        "\n",
        "Drawbacks of Binary Search:\n",
        "\n",
        "- We require the array to be sorted. If the array is not sorted, we must first sort it before performing the search. This adds an additional O(n log n) time complexity.\n",
        "\n",
        "- Binary search requires that the array being searched be stored in contiguous memory locations. This can be a problem if the array is too large to fit in memory, or if the array is stored on external memory such as a hard drive or in the cloud.\n",
        "\n",
        "- Binary search requires that the elements of the array be comparable, meaning that they must be able to be ordered. This can be a problem if the elements of the array are not naturally ordered, or if the ordering is not well-defined."
      ],
      "metadata": {
        "id": "db7vpsa4scf3"
      }
    },
    {
      "cell_type": "code",
      "source": [
        "# write a python code to binary search x in a list.\n",
        "# If x is present then return its location,\n",
        "# otherwise return -1\n",
        "arr = [2, 3, 4, 10, 40]\n",
        "x = 40\n",
        "N = len(arr)\n",
        "def binarySearch(arr, l, r, x):\n",
        "  arr.sort()\n",
        "  while l < r:\n",
        "    mid =(l+r)//2\n",
        "    print(mid)\n",
        "    if arr[mid]==x:\n",
        "      return mid\n",
        "    elif arr[mid] > x:\n",
        "      r=mid-1\n",
        "    else:\n",
        "      l=mid+1\n",
        "  return -1         \n",
        "  \n",
        "  \n",
        "binarySearch(arr,0,len(arr),x)  \n",
        "    \n",
        "\n",
        "\n",
        "  \n"
      ],
      "metadata": {
        "id": "GaQlxk0buU1V",
        "colab": {
          "base_uri": "https://localhost:8080/"
        },
        "outputId": "06989638-2893-426f-b67b-1c47ff57b2a7"
      },
      "execution_count": null,
      "outputs": [
        {
          "output_type": "stream",
          "name": "stdout",
          "text": [
            "2\n",
            "4\n"
          ]
        },
        {
          "output_type": "execute_result",
          "data": {
            "text/plain": [
              "4"
            ]
          },
          "metadata": {},
          "execution_count": 26
        }
      ]
    },
    {
      "cell_type": "markdown",
      "source": [
        "# Sorting Algorithms:"
      ],
      "metadata": {
        "id": "nETksFEgB42h"
      }
    },
    {
      "cell_type": "markdown",
      "source": [
        "### Merge-Sort & (2 way Merge-Sort)"
      ],
      "metadata": {
        "id": "KzRjQHR4B7Uq"
      }
    },
    {
      "cell_type": "markdown",
      "source": [
        "There are two approaches to implement this Algorithm.\n",
        "1. Recursively: which called MergeSort\n",
        "2. iteratively: which called (2-way mergeSort)"
      ],
      "metadata": {
        "id": "mKQeVm5tCM81"
      }
    },
    {
      "cell_type": "markdown",
      "source": [
        "### What is Merging:\n",
        "\n",
        "- Merging is a process of combining two sorted list into a single sorted list."
      ],
      "metadata": {
        "id": "jfF9Mk5cIQHM"
      }
    },
    {
      "cell_type": "markdown",
      "source": [
        "### Recursively:"
      ],
      "metadata": {
        "id": "NAk4APQNCHBE"
      }
    },
    {
      "cell_type": "markdown",
      "source": [
        "The merge sort algorithm can be divided into three steps, like all divide-and-conquer algorithms:\n",
        "\n",
        "- Divide the given unsorted list into several sublists.  (Divide)\n",
        " \n",
        "- Sort each of the sublists recursively.  (Conquer)\n",
        " \n",
        "- Merge the sorted sublists to produce new sorted list.  (Combine)"
      ],
      "metadata": {
        "id": "XOQifeqoNRWN"
      }
    },
    {
      "cell_type": "markdown",
      "source": [
        "<div>\n",
        "<img src=\"https://upload.wikimedia.org/wikipedia/commons/c/cc/Merge-sort-example-300px.gif?20151222172210\" width=\"600\"/>\n",
        "</div>"
      ],
      "metadata": {
        "id": "A4xKpfNgED2S"
      }
    },
    {
      "cell_type": "markdown",
      "source": [
        "Algorithm MergeSort(l,h) <br>\n",
        "{\n",
        "  <br><br>\n",
        "  if (l < h)\n",
        "  \n",
        "  {\n",
        "  <br>\n",
        "  mid = (l + h) / 2 <br><br>\n",
        "  MergeSort(l,mid) <br><br>\n",
        "  MergeSort(mid + 1,h)<br><br>\n",
        "  merge(l,mid,h)<br><br>\n",
        "  } <br><br>\n",
        "}"
      ],
      "metadata": {
        "id": "FxxxRCeBIS5J"
      }
    },
    {
      "cell_type": "code",
      "source": [
        "Algorithm Merge(A,B,m,n){\n",
        "    i = 1\n",
        "    j= 1\n",
        "    k = 1\n",
        "  while(i <= m and j <= n)\n",
        "  {\n",
        "    if A[i] < B[j]:\n",
        "      C[k] = A[i]\n",
        "      i = i + 1\n",
        "      k = k + 1\n",
        "    else:\n",
        "      C[k] = B[j]\n",
        "      j = j + 1\n",
        "      k = k + 1\n",
        " }\n",
        "\n",
        " while (i <= m){\n",
        "      C[k] = A[i]\n",
        "      i = i + 1\n",
        "      k = k + 1  \n",
        " }\n",
        "\n",
        " while (j <= n){\n",
        "     C[k] = B[j]\n",
        "      j = j + 1\n",
        "      k = k + 1\n",
        " }\n",
        "\n",
        "}\n"
      ],
      "metadata": {
        "id": "yC_BF_UZF7cX"
      },
      "execution_count": null,
      "outputs": []
    },
    {
      "cell_type": "markdown",
      "source": [
        "### Recursively:"
      ],
      "metadata": {
        "id": "y6mZTmyZOPDA"
      }
    },
    {
      "cell_type": "code",
      "source": [
        "def merge_sort(nums):\n",
        "    # bottom cases: empty or list of a single element.\n",
        "    pass\n",
        "\n",
        "\n",
        "\n",
        "def merge(left_list, right_list):\n",
        "   pass"
      ],
      "metadata": {
        "id": "bljvbkb3ONq_"
      },
      "execution_count": null,
      "outputs": []
    },
    {
      "cell_type": "code",
      "source": [
        "arr = [9,3,7,5,6,4,8,2]\n",
        "merge_sort(arr)"
      ],
      "metadata": {
        "colab": {
          "base_uri": "https://localhost:8080/"
        },
        "id": "0TI3YUu7OUAT",
        "outputId": "601e3c83-4727-49c7-a3cf-b06ae5664797"
      },
      "execution_count": null,
      "outputs": [
        {
          "output_type": "execute_result",
          "data": {
            "text/plain": [
              "[2, 3, 4, 5, 6, 7, 8, 9]"
            ]
          },
          "metadata": {},
          "execution_count": 3
        }
      ]
    },
    {
      "cell_type": "markdown",
      "source": [
        "### iteratively:\n",
        "\n",
        "1. Assume each element in the array is list\n",
        "2. merge them using 2-way merge method"
      ],
      "metadata": {
        "id": "XzqXb5-ZK0ma"
      }
    },
    {
      "cell_type": "code",
      "source": [
        "# take this array and apply Merge Sort & 2-way merge sort on it\n",
        "arr = [9,3,7,5,6,4,8,2]"
      ],
      "metadata": {
        "id": "ngE4PJ0FKgSz"
      },
      "execution_count": null,
      "outputs": []
    },
    {
      "cell_type": "markdown",
      "source": [
        "# Assignment (iteratively)"
      ],
      "metadata": {
        "id": "1QUDZgmXhbd_"
      }
    },
    {
      "cell_type": "markdown",
      "source": [
        "#### implement 2-way merging to sort an array"
      ],
      "metadata": {
        "id": "m4ImBN7phdqy"
      }
    },
    {
      "cell_type": "code",
      "source": [
        "def merge(arr, left, mid, right): \n",
        "  pass\n",
        "\n",
        "\n",
        "def mergeSort(arr):\n",
        "  pass\n",
        "  \n"
      ],
      "metadata": {
        "id": "xPYNblQZhKkK"
      },
      "execution_count": null,
      "outputs": []
    }
  ]
}